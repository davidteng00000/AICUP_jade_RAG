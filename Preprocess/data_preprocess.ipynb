{
 "cells": [
  {
   "cell_type": "code",
   "execution_count": 2,
   "metadata": {},
   "outputs": [],
   "source": [
    "import json\n",
    "import re\n",
    "from langchain_text_splitters import RecursiveCharacterTextSplitter\n",
    "from unstructured.partition.pdf import partition_pdf\n",
    "from tqdm import tqdm\n",
    "import cn2an\n"
   ]
  },
  {
   "cell_type": "code",
   "execution_count": null,
   "metadata": {},
   "outputs": [],
   "source": [
    "finance_path = [f\"/home/davidteng/aicup/jage_rag/data/reference/finance/{i}.pdf\" for i in range(0, 1035)]\n",
    "insurance_path = [f\"/home/davidteng/aicup/jage_rag/data/reference/insurance/{i}.pdf\" for i in range(1, 644)]"
   ]
  },
  {
   "cell_type": "code",
   "execution_count": null,
   "metadata": {},
   "outputs": [
    {
     "name": "stdout",
     "output_type": "stream",
     "text": [
      "['/home/davidteng/aicup/jage_rag/data/reference/finance/0.pdf', '/home/davidteng/aicup/jage_rag/data/reference/finance/1.pdf', '/home/davidteng/aicup/jage_rag/data/reference/finance/2.pdf', '/home/davidteng/aicup/jage_rag/data/reference/finance/3.pdf', '/home/davidteng/aicup/jage_rag/data/reference/finance/4.pdf', '/home/davidteng/aicup/jage_rag/data/reference/finance/5.pdf', '/home/davidteng/aicup/jage_rag/data/reference/finance/6.pdf', '/home/davidteng/aicup/jage_rag/data/reference/finance/7.pdf', '/home/davidteng/aicup/jage_rag/data/reference/finance/8.pdf', '/home/davidteng/aicup/jage_rag/data/reference/finance/9.pdf']\n"
     ]
    }
   ],
   "source": [
    "print(finance_path[0:10])"
   ]
  },
  {
   "cell_type": "code",
   "execution_count": null,
   "metadata": {},
   "outputs": [],
   "source": [
    "finance_raw_data = []\n",
    "insurance_raw_data = []"
   ]
  },
  {
   "cell_type": "code",
   "execution_count": null,
   "metadata": {},
   "outputs": [
    {
     "name": "stderr",
     "output_type": "stream",
     "text": [
      "  0%|          | 1/1035 [00:01<17:44,  1.03s/it]"
     ]
    },
    {
     "name": "stderr",
     "output_type": "stream",
     "text": [
      "  0%|          | 2/1035 [00:09<1:31:45,  5.33s/it]Ignoring (part of) ToUnicode map because the PDF data does not conform to the format. This could result in (cid) values in the output. The start object is not a byte.\n",
      "  2%|▏         | 16/1035 [00:24<14:03,  1.21it/s] Ignoring (part of) ToUnicode map because the PDF data does not conform to the format. This could result in (cid) values in the output. The start object is not a byte.\n",
      "  3%|▎         | 28/1035 [00:27<03:55,  4.27it/s]Ignoring (part of) ToUnicode map because the PDF data does not conform to the format. This could result in (cid) values in the output. The start object is not a byte.\n",
      "  5%|▌         | 56/1035 [00:55<15:24,  1.06it/s]Ignoring (part of) ToUnicode map because the PDF data does not conform to the format. This could result in (cid) values in the output. The start object is not a byte.\n",
      "  6%|▌         | 60/1035 [00:56<05:59,  2.71it/s]Ignoring (part of) ToUnicode map because the PDF data does not conform to the format. This could result in (cid) values in the output. The start object is not a byte.\n",
      "  6%|▌         | 63/1035 [00:57<04:58,  3.25it/s]Ignoring (part of) ToUnicode map because the PDF data does not conform to the format. This could result in (cid) values in the output. The start object is not a byte.\n",
      "  6%|▌         | 64/1035 [00:59<11:40,  1.39it/s]Ignoring (part of) ToUnicode map because the PDF data does not conform to the format. This could result in (cid) values in the output. The start object is not a byte.\n",
      "  6%|▋         | 66/1035 [00:59<07:46,  2.08it/s]Ignoring (part of) ToUnicode map because the PDF data does not conform to the format. This could result in (cid) values in the output. The start object is not a byte.\n",
      "  7%|▋         | 71/1035 [01:01<07:12,  2.23it/s]Ignoring (part of) ToUnicode map because the PDF data does not conform to the format. This could result in (cid) values in the output. The start object is not a byte.\n",
      "  7%|▋         | 75/1035 [01:05<14:52,  1.08it/s]Ignoring (part of) ToUnicode map because the PDF data does not conform to the format. This could result in (cid) values in the output. The start object is not a byte.\n",
      "  8%|▊         | 84/1035 [01:13<11:27,  1.38it/s]Ignoring (part of) ToUnicode map because the PDF data does not conform to the format. This could result in (cid) values in the output. The start object is not a byte.\n",
      "  8%|▊         | 86/1035 [01:18<28:46,  1.82s/it]Ignoring (part of) ToUnicode map because the PDF data does not conform to the format. This could result in (cid) values in the output. The start object is not a byte.\n",
      "  9%|▉         | 92/1035 [01:41<33:35,  2.14s/it]  Ignoring (part of) ToUnicode map because the PDF data does not conform to the format. This could result in (cid) values in the output. The start object is not a byte.\n",
      " 10%|▉         | 100/1035 [01:50<21:22,  1.37s/it]Ignoring (part of) ToUnicode map because the PDF data does not conform to the format. This could result in (cid) values in the output. The start object is not a byte.\n",
      " 10%|█         | 107/1035 [01:54<15:46,  1.02s/it]Ignoring (part of) ToUnicode map because the PDF data does not conform to the format. This could result in (cid) values in the output. The start object is not a byte.\n",
      " 11%|█         | 114/1035 [02:07<17:58,  1.17s/it]  Ignoring (part of) ToUnicode map because the PDF data does not conform to the format. This could result in (cid) values in the output. The start object is not a byte.\n",
      " 11%|█▏        | 117/1035 [02:08<08:22,  1.83it/s]Ignoring (part of) ToUnicode map because the PDF data does not conform to the format. This could result in (cid) values in the output. The start object is not a byte.\n",
      " 12%|█▏        | 120/1035 [02:10<10:26,  1.46it/s]Ignoring (part of) ToUnicode map because the PDF data does not conform to the format. This could result in (cid) values in the output. The start object is not a byte.\n",
      " 12%|█▏        | 126/1035 [02:33<1:01:04,  4.03s/it]Ignoring (part of) ToUnicode map because the PDF data does not conform to the format. This could result in (cid) values in the output. The start object is not a byte.\n",
      " 13%|█▎        | 131/1035 [02:35<24:10,  1.60s/it]  Ignoring (part of) ToUnicode map because the PDF data does not conform to the format. This could result in (cid) values in the output. The start object is not a byte.\n",
      " 13%|█▎        | 136/1035 [02:39<16:19,  1.09s/it]Ignoring (part of) ToUnicode map because the PDF data does not conform to the format. This could result in (cid) values in the output. The start object is not a byte.\n",
      " 13%|█▎        | 139/1035 [02:43<23:00,  1.54s/it]Ignoring (part of) ToUnicode map because the PDF data does not conform to the format. This could result in (cid) values in the output. The start object is not a byte.\n",
      " 14%|█▎        | 142/1035 [02:52<35:51,  2.41s/it]Ignoring (part of) ToUnicode map because the PDF data does not conform to the format. This could result in (cid) values in the output. The start object is not a byte.\n",
      " 14%|█▍        | 143/1035 [02:52<27:47,  1.87s/it]Ignoring (part of) ToUnicode map because the PDF data does not conform to the format. This could result in (cid) values in the output. The start object is not a byte.\n",
      " 14%|█▍        | 146/1035 [02:53<14:57,  1.01s/it]Ignoring (part of) ToUnicode map because the PDF data does not conform to the format. This could result in (cid) values in the output. The start object is not a byte.\n",
      " 14%|█▍        | 149/1035 [02:54<09:56,  1.49it/s]Ignoring (part of) ToUnicode map because the PDF data does not conform to the format. This could result in (cid) values in the output. The start object is not a byte.\n",
      " 15%|█▌        | 159/1035 [02:59<04:30,  3.24it/s]Ignoring (part of) ToUnicode map because the PDF data does not conform to the format. This could result in (cid) values in the output. The start object is not a byte.\n",
      " 16%|█▌        | 161/1035 [03:04<14:54,  1.02s/it]Ignoring (part of) ToUnicode map because the PDF data does not conform to the format. This could result in (cid) values in the output. The start object is not a byte.\n",
      " 16%|█▌        | 166/1035 [03:05<05:01,  2.88it/s]Ignoring (part of) ToUnicode map because the PDF data does not conform to the format. This could result in (cid) values in the output. The start object is not a byte.\n",
      "Ignoring (part of) ToUnicode map because the PDF data does not conform to the format. This could result in (cid) values in the output. The start object is not a byte.\n",
      " 16%|█▌        | 168/1035 [03:05<03:52,  3.73it/s]Ignoring (part of) ToUnicode map because the PDF data does not conform to the format. This could result in (cid) values in the output. The start object is not a byte.\n",
      " 17%|█▋        | 178/1035 [03:09<05:37,  2.54it/s]Ignoring (part of) ToUnicode map because the PDF data does not conform to the format. This could result in (cid) values in the output. The start object is not a byte.\n",
      " 18%|█▊        | 186/1035 [03:31<42:32,  3.01s/it]Ignoring (part of) ToUnicode map because the PDF data does not conform to the format. This could result in (cid) values in the output. The start object is not a byte.\n",
      " 20%|█▉        | 203/1035 [03:45<05:18,  2.61it/s]Ignoring (part of) ToUnicode map because the PDF data does not conform to the format. This could result in (cid) values in the output. The start object is not a byte.\n",
      " 20%|█▉        | 205/1035 [03:45<03:49,  3.62it/s]Ignoring (part of) ToUnicode map because the PDF data does not conform to the format. This could result in (cid) values in the output. The start object is not a byte.\n",
      " 20%|██        | 208/1035 [03:51<23:52,  1.73s/it]Ignoring (part of) ToUnicode map because the PDF data does not conform to the format. This could result in (cid) values in the output. The start object is not a byte.\n",
      " 20%|██        | 210/1035 [03:54<19:36,  1.43s/it]Ignoring (part of) ToUnicode map because the PDF data does not conform to the format. This could result in (cid) values in the output. The start object is not a byte.\n",
      " 21%|██▏       | 220/1035 [04:01<09:54,  1.37it/s]Ignoring (part of) ToUnicode map because the PDF data does not conform to the format. This could result in (cid) values in the output. The start object is not a byte.\n",
      " 21%|██▏       | 222/1035 [04:01<06:06,  2.22it/s]Ignoring (part of) ToUnicode map because the PDF data does not conform to the format. This could result in (cid) values in the output. The start object is not a byte.\n",
      " 22%|██▏       | 225/1035 [04:01<03:39,  3.69it/s]Ignoring (part of) ToUnicode map because the PDF data does not conform to the format. This could result in (cid) values in the output. The start object is not a byte.\n",
      " 22%|██▏       | 231/1035 [04:09<11:19,  1.18it/s]Ignoring (part of) ToUnicode map because the PDF data does not conform to the format. This could result in (cid) values in the output. The start object is not a byte.\n",
      " 23%|██▎       | 243/1035 [04:33<59:05,  4.48s/it]Ignoring (part of) ToUnicode map because the PDF data does not conform to the format. This could result in (cid) values in the output. The start object is not a byte.\n",
      " 25%|██▍       | 256/1035 [04:36<04:40,  2.77it/s]Ignoring (part of) ToUnicode map because the PDF data does not conform to the format. This could result in (cid) values in the output. The start object is not a byte.\n",
      " 25%|██▌       | 259/1035 [04:37<02:42,  4.78it/s]Ignoring (part of) ToUnicode map because the PDF data does not conform to the format. This could result in (cid) values in the output. The start object is not a byte.\n",
      " 26%|██▌       | 265/1035 [04:49<24:35,  1.92s/it]Ignoring (part of) ToUnicode map because the PDF data does not conform to the format. This could result in (cid) values in the output. The start object is not a byte.\n",
      " 26%|██▌       | 269/1035 [04:58<27:31,  2.16s/it]Ignoring (part of) ToUnicode map because the PDF data does not conform to the format. This could result in (cid) values in the output. The start object is not a byte.\n",
      " 26%|██▋       | 273/1035 [04:58<09:30,  1.33it/s]Ignoring (part of) ToUnicode map because the PDF data does not conform to the format. This could result in (cid) values in the output. The start object is not a byte.\n",
      " 26%|██▋       | 274/1035 [04:59<07:32,  1.68it/s]Ignoring (part of) ToUnicode map because the PDF data does not conform to the format. This could result in (cid) values in the output. The start object is not a byte.\n",
      " 27%|██▋       | 276/1035 [04:59<05:28,  2.31it/s]Ignoring (part of) ToUnicode map because the PDF data does not conform to the format. This could result in (cid) values in the output. The start object is not a byte.\n",
      " 27%|██▋       | 279/1035 [05:14<46:40,  3.70s/it]Ignoring (part of) ToUnicode map because the PDF data does not conform to the format. This could result in (cid) values in the output. The start object is not a byte.\n",
      " 27%|██▋       | 282/1035 [05:16<20:49,  1.66s/it]Ignoring (part of) ToUnicode map because the PDF data does not conform to the format. This could result in (cid) values in the output. The start object is not a byte.\n",
      " 28%|██▊       | 289/1035 [05:26<27:34,  2.22s/it]Ignoring (part of) ToUnicode map because the PDF data does not conform to the format. This could result in (cid) values in the output. The start object is not a byte.\n",
      " 28%|██▊       | 292/1035 [05:27<13:35,  1.10s/it]Ignoring (part of) ToUnicode map because the PDF data does not conform to the format. This could result in (cid) values in the output. The start object is not a byte.\n",
      " 30%|██▉       | 308/1035 [05:41<09:41,  1.25it/s]Ignoring (part of) ToUnicode map because the PDF data does not conform to the format. This could result in (cid) values in the output. The start object is not a byte.\n",
      " 30%|███       | 312/1035 [05:49<17:42,  1.47s/it]Ignoring (part of) ToUnicode map because the PDF data does not conform to the format. This could result in (cid) values in the output. The start object is not a byte.\n",
      " 30%|███       | 313/1035 [05:49<13:51,  1.15s/it]Ignoring (part of) ToUnicode map because the PDF data does not conform to the format. This could result in (cid) values in the output. The start object is not a byte.\n",
      " 30%|███       | 314/1035 [05:49<11:18,  1.06it/s]Ignoring (part of) ToUnicode map because the PDF data does not conform to the format. This could result in (cid) values in the output. The start object is not a byte.\n",
      " 31%|███▏      | 324/1035 [06:01<08:56,  1.33it/s]Ignoring (part of) ToUnicode map because the PDF data does not conform to the format. This could result in (cid) values in the output. The start object is not a byte.\n",
      " 33%|███▎      | 344/1035 [06:16<05:05,  2.26it/s]Ignoring (part of) ToUnicode map because the PDF data does not conform to the format. This could result in (cid) values in the output. The start object is not a byte.\n",
      " 34%|███▎      | 347/1035 [06:32<36:41,  3.20s/it]Ignoring (part of) ToUnicode map because the PDF data does not conform to the format. This could result in (cid) values in the output. The start object is not a byte.\n",
      " 34%|███▍      | 356/1035 [06:40<12:58,  1.15s/it]Ignoring (part of) ToUnicode map because the PDF data does not conform to the format. This could result in (cid) values in the output. The start object is not a byte.\n",
      " 35%|███▍      | 358/1035 [06:40<07:53,  1.43it/s]Ignoring (part of) ToUnicode map because the PDF data does not conform to the format. This could result in (cid) values in the output. The start object is not a byte.\n",
      " 36%|███▋      | 376/1035 [07:08<06:04,  1.81it/s]Ignoring (part of) ToUnicode map because the PDF data does not conform to the format. This could result in (cid) values in the output. The start object is not a byte.\n",
      " 37%|███▋      | 388/1035 [07:35<14:02,  1.30s/it]Ignoring (part of) ToUnicode map because the PDF data does not conform to the format. This could result in (cid) values in the output. The start object is not a byte.\n",
      " 38%|███▊      | 394/1035 [07:36<04:31,  2.36it/s]Ignoring (part of) ToUnicode map because the PDF data does not conform to the format. This could result in (cid) values in the output. The start object is not a byte.\n",
      " 38%|███▊      | 397/1035 [07:37<03:19,  3.19it/s]Ignoring (part of) ToUnicode map because the PDF data does not conform to the format. This could result in (cid) values in the output. The start object is not a byte.\n",
      " 39%|███▉      | 404/1035 [07:47<09:19,  1.13it/s]Ignoring (part of) ToUnicode map because the PDF data does not conform to the format. This could result in (cid) values in the output. The start object is not a byte.\n",
      " 41%|████▏     | 429/1035 [08:33<12:12,  1.21s/it]Ignoring (part of) ToUnicode map because the PDF data does not conform to the format. This could result in (cid) values in the output. The start object is not a byte.\n",
      " 43%|████▎     | 442/1035 [09:21<18:46,  1.90s/it]  Ignoring (part of) ToUnicode map because the PDF data does not conform to the format. This could result in (cid) values in the output. The start object is not a byte.\n",
      " 43%|████▎     | 444/1035 [09:22<10:12,  1.04s/it]Ignoring (part of) ToUnicode map because the PDF data does not conform to the format. This could result in (cid) values in the output. The start object is not a byte.\n",
      " 43%|████▎     | 446/1035 [09:22<07:37,  1.29it/s]Ignoring (part of) ToUnicode map because the PDF data does not conform to the format. This could result in (cid) values in the output. The start object is not a byte.\n",
      " 45%|████▍     | 461/1035 [09:39<15:52,  1.66s/it]Ignoring (part of) ToUnicode map because the PDF data does not conform to the format. This could result in (cid) values in the output. The start object is not a byte.\n",
      " 45%|████▍     | 465/1035 [09:40<05:17,  1.80it/s]Ignoring (part of) ToUnicode map because the PDF data does not conform to the format. This could result in (cid) values in the output. The start object is not a byte.\n",
      " 45%|████▌     | 467/1035 [09:40<03:06,  3.04it/s]Ignoring (part of) ToUnicode map because the PDF data does not conform to the format. This could result in (cid) values in the output. The start object is not a byte.\n",
      " 45%|████▌     | 469/1035 [09:40<02:17,  4.12it/s]Ignoring (part of) ToUnicode map because the PDF data does not conform to the format. This could result in (cid) values in the output. The start object is not a byte.\n",
      " 46%|████▌     | 471/1035 [09:40<01:59,  4.72it/s]Ignoring (part of) ToUnicode map because the PDF data does not conform to the format. This could result in (cid) values in the output. The start object is not a byte.\n",
      " 47%|████▋     | 484/1035 [09:51<02:57,  3.11it/s]Ignoring (part of) ToUnicode map because the PDF data does not conform to the format. This could result in (cid) values in the output. The start object is not a byte.\n",
      " 47%|████▋     | 488/1035 [10:06<37:54,  4.16s/it]Ignoring (part of) ToUnicode map because the PDF data does not conform to the format. This could result in (cid) values in the output. The start object is not a byte.\n",
      " 48%|████▊     | 497/1035 [10:17<08:42,  1.03it/s]Ignoring (part of) ToUnicode map because the PDF data does not conform to the format. This could result in (cid) values in the output. The start object is not a byte.\n",
      " 49%|████▉     | 507/1035 [10:24<05:09,  1.71it/s]Ignoring (part of) ToUnicode map because the PDF data does not conform to the format. This could result in (cid) values in the output. The start object is not a byte.\n",
      " 51%|█████     | 527/1035 [10:43<14:01,  1.66s/it]Ignoring (part of) ToUnicode map because the PDF data does not conform to the format. This could result in (cid) values in the output. The start object is not a byte.\n",
      " 52%|█████▏    | 542/1035 [11:09<06:19,  1.30it/s]Ignoring (part of) ToUnicode map because the PDF data does not conform to the format. This could result in (cid) values in the output. The start object is not a byte.\n",
      " 54%|█████▍    | 564/1035 [11:23<09:22,  1.19s/it]Ignoring (part of) ToUnicode map because the PDF data does not conform to the format. This could result in (cid) values in the output. The start object is not a byte.\n",
      " 56%|█████▌    | 579/1035 [11:37<04:11,  1.81it/s]Ignoring (part of) ToUnicode map because the PDF data does not conform to the format. This could result in (cid) values in the output. The start object is not a byte.\n",
      " 56%|█████▌    | 581/1035 [11:37<02:46,  2.72it/s]Ignoring (part of) ToUnicode map because the PDF data does not conform to the format. This could result in (cid) values in the output. The start object is not a byte.\n",
      " 57%|█████▋    | 592/1035 [11:56<12:44,  1.73s/it]Ignoring (part of) ToUnicode map because the PDF data does not conform to the format. This could result in (cid) values in the output. The start object is not a byte.\n",
      " 57%|█████▋    | 594/1035 [11:56<06:53,  1.07it/s]Ignoring (part of) ToUnicode map because the PDF data does not conform to the format. This could result in (cid) values in the output. The start object is not a byte.\n",
      " 58%|█████▊    | 597/1035 [11:59<06:57,  1.05it/s]Ignoring (part of) ToUnicode map because the PDF data does not conform to the format. This could result in (cid) values in the output. The start object is not a byte.\n",
      " 58%|█████▊    | 601/1035 [12:00<04:01,  1.80it/s]Ignoring (part of) ToUnicode map because the PDF data does not conform to the format. This could result in (cid) values in the output. The start object is not a byte.\n",
      " 58%|█████▊    | 602/1035 [12:03<08:54,  1.23s/it]Ignoring (part of) ToUnicode map because the PDF data does not conform to the format. This could result in (cid) values in the output. The start object is not a byte.\n",
      " 59%|█████▉    | 609/1035 [12:18<14:46,  2.08s/it]Ignoring (part of) ToUnicode map because the PDF data does not conform to the format. This could result in (cid) values in the output. The start object is not a byte.\n",
      " 59%|█████▉    | 610/1035 [12:19<12:39,  1.79s/it]Ignoring (part of) ToUnicode map because the PDF data does not conform to the format. This could result in (cid) values in the output. The start object is not a byte.\n",
      " 60%|█████▉    | 618/1035 [12:28<10:20,  1.49s/it]Ignoring (part of) ToUnicode map because the PDF data does not conform to the format. This could result in (cid) values in the output. The start object is not a byte.\n",
      " 60%|██████    | 621/1035 [12:29<05:42,  1.21it/s]Ignoring (part of) ToUnicode map because the PDF data does not conform to the format. This could result in (cid) values in the output. The start object is not a byte.\n",
      " 61%|██████▏   | 636/1035 [12:38<03:05,  2.15it/s]Ignoring (part of) ToUnicode map because the PDF data does not conform to the format. This could result in (cid) values in the output. The start object is not a byte.\n",
      " 63%|██████▎   | 651/1035 [12:48<04:25,  1.45it/s]Ignoring (part of) ToUnicode map because the PDF data does not conform to the format. This could result in (cid) values in the output. The start object is not a byte.\n",
      " 63%|██████▎   | 655/1035 [12:56<08:58,  1.42s/it]Ignoring (part of) ToUnicode map because the PDF data does not conform to the format. This could result in (cid) values in the output. The start object is not a byte.\n",
      " 65%|██████▍   | 672/1035 [13:14<03:19,  1.82it/s]Ignoring (part of) ToUnicode map because the PDF data does not conform to the format. This could result in (cid) values in the output. The start object is not a byte.\n",
      " 65%|██████▌   | 677/1035 [13:26<13:22,  2.24s/it]Ignoring (part of) ToUnicode map because the PDF data does not conform to the format. This could result in (cid) values in the output. The start object is not a byte.\n",
      " 66%|██████▌   | 682/1035 [13:37<19:40,  3.35s/it]Ignoring (part of) ToUnicode map because the PDF data does not conform to the format. This could result in (cid) values in the output. The start object is not a byte.\n",
      " 66%|██████▋   | 686/1035 [13:37<06:03,  1.04s/it]Ignoring (part of) ToUnicode map because the PDF data does not conform to the format. This could result in (cid) values in the output. The start object is not a byte.\n",
      " 67%|██████▋   | 691/1035 [13:40<03:03,  1.87it/s]Ignoring (part of) ToUnicode map because the PDF data does not conform to the format. This could result in (cid) values in the output. The start object is not a byte.\n",
      " 67%|██████▋   | 694/1035 [13:42<03:02,  1.87it/s]Ignoring (part of) ToUnicode map because the PDF data does not conform to the format. This could result in (cid) values in the output. The start object is not a byte.\n",
      " 68%|██████▊   | 702/1035 [13:45<02:21,  2.35it/s]Ignoring (part of) ToUnicode map because the PDF data does not conform to the format. This could result in (cid) values in the output. The start object is not a byte.\n",
      " 69%|██████▊   | 710/1035 [14:03<18:31,  3.42s/it]Ignoring (part of) ToUnicode map because the PDF data does not conform to the format. This could result in (cid) values in the output. The start object is not a byte.\n",
      " 69%|██████▊   | 711/1035 [14:04<14:41,  2.72s/it]Ignoring (part of) ToUnicode map because the PDF data does not conform to the format. This could result in (cid) values in the output. The start object is not a byte.\n",
      " 69%|██████▉   | 712/1035 [14:06<14:32,  2.70s/it]Ignoring (part of) ToUnicode map because the PDF data does not conform to the format. This could result in (cid) values in the output. The start object is not a byte.\n",
      " 71%|███████   | 735/1035 [14:19<02:33,  1.96it/s]Ignoring (part of) ToUnicode map because the PDF data does not conform to the format. This could result in (cid) values in the output. The start object is not a byte.\n",
      " 71%|███████▏  | 740/1035 [14:22<04:05,  1.20it/s]Ignoring (part of) ToUnicode map because the PDF data does not conform to the format. This could result in (cid) values in the output. The start object is not a byte.\n",
      " 73%|███████▎  | 760/1035 [15:04<22:32,  4.92s/it]Ignoring (part of) ToUnicode map because the PDF data does not conform to the format. This could result in (cid) values in the output. The start object is not a byte.\n",
      " 76%|███████▌  | 788/1035 [15:38<11:55,  2.90s/it]Ignoring (part of) ToUnicode map because the PDF data does not conform to the format. This could result in (cid) values in the output. The start object is not a byte.\n",
      " 77%|███████▋  | 797/1035 [15:43<03:13,  1.23it/s]Ignoring (part of) ToUnicode map because the PDF data does not conform to the format. This could result in (cid) values in the output. The start object is not a byte.\n",
      " 77%|███████▋  | 799/1035 [15:48<06:39,  1.69s/it]Ignoring (part of) ToUnicode map because the PDF data does not conform to the format. This could result in (cid) values in the output. The start object is not a byte.\n",
      " 79%|███████▊  | 815/1035 [16:03<04:00,  1.09s/it]Ignoring (part of) ToUnicode map because the PDF data does not conform to the format. This could result in (cid) values in the output. The start object is not a byte.\n",
      " 79%|███████▉  | 818/1035 [16:04<02:07,  1.70it/s]Ignoring (part of) ToUnicode map because the PDF data does not conform to the format. This could result in (cid) values in the output. The start object is not a byte.\n",
      " 80%|███████▉  | 826/1035 [16:21<08:37,  2.48s/it]Ignoring (part of) ToUnicode map because the PDF data does not conform to the format. This could result in (cid) values in the output. The start object is not a byte.\n",
      " 80%|████████  | 830/1035 [16:29<07:29,  2.19s/it]Ignoring (part of) ToUnicode map because the PDF data does not conform to the format. This could result in (cid) values in the output. The start object is not a byte.\n",
      " 81%|████████  | 834/1035 [16:31<02:35,  1.29it/s]Ignoring (part of) ToUnicode map because the PDF data does not conform to the format. This could result in (cid) values in the output. The start object is not a byte.\n",
      " 82%|████████▏ | 847/1035 [16:42<07:00,  2.24s/it]Ignoring (part of) ToUnicode map because the PDF data does not conform to the format. This could result in (cid) values in the output. The start object is not a byte.\n",
      " 83%|████████▎ | 857/1035 [16:49<05:00,  1.69s/it]Ignoring (part of) ToUnicode map because the PDF data does not conform to the format. This could result in (cid) values in the output. The start object is not a byte.\n",
      " 84%|████████▎ | 866/1035 [16:59<03:48,  1.35s/it]Ignoring (part of) ToUnicode map because the PDF data does not conform to the format. This could result in (cid) values in the output. The start object is not a byte.\n",
      " 89%|████████▉ | 921/1035 [18:04<00:44,  2.58it/s]Ignoring (part of) ToUnicode map because the PDF data does not conform to the format. This could result in (cid) values in the output. The start object is not a byte.\n",
      " 89%|████████▉ | 924/1035 [18:06<00:48,  2.29it/s]Ignoring (part of) ToUnicode map because the PDF data does not conform to the format. This could result in (cid) values in the output. The start object is not a byte.\n",
      " 91%|█████████ | 937/1035 [18:31<01:36,  1.02it/s]Ignoring (part of) ToUnicode map because the PDF data does not conform to the format. This could result in (cid) values in the output. The start object is not a byte.\n",
      " 91%|█████████ | 944/1035 [18:42<01:21,  1.12it/s]Ignoring (part of) ToUnicode map because the PDF data does not conform to the format. This could result in (cid) values in the output. The start object is not a byte.\n",
      " 92%|█████████▏| 951/1035 [18:43<00:19,  4.22it/s]Ignoring (part of) ToUnicode map because the PDF data does not conform to the format. This could result in (cid) values in the output. The start object is not a byte.\n",
      " 93%|█████████▎| 958/1035 [18:44<00:16,  4.61it/s]Ignoring (part of) ToUnicode map because the PDF data does not conform to the format. This could result in (cid) values in the output. The start object is not a byte.\n",
      " 93%|█████████▎| 965/1035 [18:47<00:27,  2.59it/s]Ignoring (part of) ToUnicode map because the PDF data does not conform to the format. This could result in (cid) values in the output. The start object is not a byte.\n",
      " 95%|█████████▌| 984/1035 [19:08<00:40,  1.27it/s]Ignoring (part of) ToUnicode map because the PDF data does not conform to the format. This could result in (cid) values in the output. The start object is not a byte.\n",
      " 97%|█████████▋| 1009/1035 [19:25<00:36,  1.40s/it]Ignoring (part of) ToUnicode map because the PDF data does not conform to the format. This could result in (cid) values in the output. The start object is not a byte.\n",
      " 98%|█████████▊| 1010/1035 [19:25<00:27,  1.11s/it]Ignoring (part of) ToUnicode map because the PDF data does not conform to the format. This could result in (cid) values in the output. The start object is not a byte.\n",
      " 98%|█████████▊| 1014/1035 [19:25<00:09,  2.12it/s]Ignoring (part of) ToUnicode map because the PDF data does not conform to the format. This could result in (cid) values in the output. The start object is not a byte.\n",
      "100%|██████████| 1035/1035 [19:52<00:00,  1.15s/it]\n"
     ]
    }
   ],
   "source": [
    "for path in tqdm(finance_path):\n",
    "    elements = partition_pdf(filename=path)\n",
    "    finance_raw_data.append(\"\\n\".join([str(el) for el in elements]))"
   ]
  },
  {
   "cell_type": "code",
   "execution_count": null,
   "metadata": {},
   "outputs": [
    {
     "name": "stderr",
     "output_type": "stream",
     "text": [
      "  9%|▉         | 57/643 [00:07<01:17,  7.53it/s]Ignoring (part of) ToUnicode map because the PDF data does not conform to the format. This could result in (cid) values in the output. The start object is not a byte.\n",
      " 12%|█▏        | 78/643 [00:10<01:13,  7.72it/s]Ignoring (part of) ToUnicode map because the PDF data does not conform to the format. This could result in (cid) values in the output. The start object is not a byte.\n",
      " 13%|█▎        | 82/643 [00:10<01:16,  7.29it/s]Ignoring (part of) ToUnicode map because the PDF data does not conform to the format. This could result in (cid) values in the output. The start object is not a byte.\n",
      " 20%|██        | 129/643 [00:16<00:54,  9.48it/s]Ignoring (part of) ToUnicode map because the PDF data does not conform to the format. This could result in (cid) values in the output. The start object is not a byte.\n",
      " 26%|██▌       | 167/643 [00:21<01:15,  6.31it/s]Ignoring (part of) ToUnicode map because the PDF data does not conform to the format. This could result in (cid) values in the output. The start object is not a byte.\n",
      " 36%|███▌      | 232/643 [00:29<00:55,  7.37it/s]Ignoring (part of) ToUnicode map because the PDF data does not conform to the format. This could result in (cid) values in the output. The start object is not a byte.\n",
      " 43%|████▎     | 276/643 [00:35<00:58,  6.24it/s]Ignoring (part of) ToUnicode map because the PDF data does not conform to the format. This could result in (cid) values in the output. The start object is not a byte.\n",
      " 44%|████▍     | 284/643 [00:35<00:36,  9.77it/s]Ignoring (part of) ToUnicode map because the PDF data does not conform to the format. This could result in (cid) values in the output. The start object is not a byte.\n",
      " 46%|████▌     | 294/643 [00:37<00:45,  7.74it/s]Ignoring (part of) ToUnicode map because the PDF data does not conform to the format. This could result in (cid) values in the output. The start object is not a byte.\n",
      " 54%|█████▍    | 346/643 [00:44<00:32,  9.07it/s]Ignoring (part of) ToUnicode map because the PDF data does not conform to the format. This could result in (cid) values in the output. The start object is not a byte.\n",
      " 59%|█████▉    | 381/643 [00:48<00:36,  7.11it/s]Ignoring (part of) ToUnicode map because the PDF data does not conform to the format. This could result in (cid) values in the output. The start object is not a byte.\n",
      " 66%|██████▋   | 426/643 [00:55<00:37,  5.74it/s]Ignoring (part of) ToUnicode map because the PDF data does not conform to the format. This could result in (cid) values in the output. The start object is not a byte.\n",
      " 72%|███████▏  | 462/643 [00:59<00:24,  7.26it/s]Ignoring (part of) ToUnicode map because the PDF data does not conform to the format. This could result in (cid) values in the output. The start object is not a byte.\n",
      " 80%|███████▉  | 513/643 [01:05<00:18,  6.98it/s]Ignoring (part of) ToUnicode map because the PDF data does not conform to the format. This could result in (cid) values in the output. The start object is not a byte.\n",
      " 81%|████████  | 518/643 [01:06<00:14,  8.84it/s]Ignoring (part of) ToUnicode map because the PDF data does not conform to the format. This could result in (cid) values in the output. The start object is not a byte.\n",
      " 93%|█████████▎| 601/643 [01:16<00:05,  7.24it/s]Ignoring (part of) ToUnicode map because the PDF data does not conform to the format. This could result in (cid) values in the output. The start object is not a byte.\n",
      " 97%|█████████▋| 623/643 [01:19<00:03,  5.91it/s]Ignoring (part of) ToUnicode map because the PDF data does not conform to the format. This could result in (cid) values in the output. The start object is not a byte.\n",
      "100%|██████████| 643/643 [01:22<00:00,  7.76it/s]\n"
     ]
    }
   ],
   "source": [
    "for path in tqdm(insurance_path):\n",
    "    elements = partition_pdf(filename=path)\n",
    "    insurance_raw_data.append(\"\\n\".join([str(el) for el in elements]))"
   ]
  },
  {
   "cell_type": "code",
   "execution_count": null,
   "metadata": {},
   "outputs": [],
   "source": [
    "# with open(\"data.json\", \"w\", encoding=\"utf-8\") as f:\n",
    "#     json.dump({\n",
    "#         \"finance\": finance_raw_data,\n",
    "#         \"insurance\": insurance_raw_data\n",
    "#     }, f, ensure_ascii=False, indent=4)"
   ]
  },
  {
   "cell_type": "code",
   "execution_count": 22,
   "metadata": {},
   "outputs": [],
   "source": [
    "with open(\"data.json\", \"r\", encoding=\"utf-8\") as f:\n",
    "    data = json.load(f)\n",
    "\n",
    "# 獲取 finance 和 insurance 資料\n",
    "finance_raw_data = data[\"finance\"]\n",
    "insurance_raw_data = data[\"insurance\"]"
   ]
  },
  {
   "cell_type": "code",
   "execution_count": 4,
   "metadata": {},
   "outputs": [
    {
     "ename": "NameError",
     "evalue": "name 'finance_path' is not defined",
     "output_type": "error",
     "traceback": [
      "\u001b[0;31m---------------------------------------------------------------------------\u001b[0m",
      "\u001b[0;31mNameError\u001b[0m                                 Traceback (most recent call last)",
      "Cell \u001b[0;32mIn[4], line 1\u001b[0m\n\u001b[0;32m----> 1\u001b[0m \u001b[38;5;28mprint\u001b[39m(\u001b[38;5;28mlen\u001b[39m(\u001b[43mfinance_path\u001b[49m), \u001b[38;5;28mlen\u001b[39m(finance_raw_data))\n\u001b[1;32m      2\u001b[0m \u001b[38;5;28mprint\u001b[39m(\u001b[38;5;28mlen\u001b[39m(insurance_path), \u001b[38;5;28mlen\u001b[39m(insurance_raw_data))\n",
      "\u001b[0;31mNameError\u001b[0m: name 'finance_path' is not defined"
     ]
    }
   ],
   "source": [
    "print(len(finance_path), len(finance_raw_data))\n",
    "print(len(insurance_path), len(insurance_raw_data))"
   ]
  },
  {
   "cell_type": "code",
   "execution_count": 23,
   "metadata": {},
   "outputs": [],
   "source": [
    "chunk_size = 200\n",
    "chunk_overlap = 100"
   ]
  },
  {
   "cell_type": "code",
   "execution_count": 24,
   "metadata": {},
   "outputs": [],
   "source": [
    "finance_chunks = []\n",
    "insurance_chunks = []"
   ]
  },
  {
   "cell_type": "code",
   "execution_count": 25,
   "metadata": {},
   "outputs": [],
   "source": [
    "text_splitter = RecursiveCharacterTextSplitter(\n",
    "    chunk_size=chunk_size,  # 每個段落的最大字數\n",
    "    chunk_overlap=chunk_overlap,  # 每個段落之間的重疊字數\n",
    "    separators=[\"\\n\\n\", \"\\n\", \"，\", \"。\", \"；\"]  # 優先使用段落、空行、空格等作為分割依據\n",
    ")\n",
    "# chunks = text_splitter.split_text(text)"
   ]
  },
  {
   "cell_type": "code",
   "execution_count": 26,
   "metadata": {},
   "outputs": [],
   "source": [
    "def convert_year_3(match):\n",
    "    # 提取民國年中的數字部分並轉換為整數\n",
    "    roc_year = int(match.group(3))\n",
    "    # 西元年 = 民國年 + 1911\n",
    "    ad_year = roc_year + 1911\n",
    "    return f\"西元{ad_year}年\"\n",
    "\n",
    "def convert_year_5(match):\n",
    "    # 提取民國年中的數字部分並轉換為整數\n",
    "    roc_year = int(match.group(3))\n",
    "    # 西元年 = 民國年 + 1911\n",
    "    ad_year = roc_year + 1911\n",
    "    return f\"西元{ad_year}年\"\n",
    "\n",
    "def convert_chinses_num(match):\n",
    "    chinese_num = match.group(0)\n",
    "    try:\n",
    "        # 使用 cn2an 進行轉換並返回字符串結果\n",
    "        return str(cn2an.cn2an(chinese_num, \"normal\"))\n",
    "    except Exception:\n",
    "        # 若轉換失敗，返回原始字符串\n",
    "        return chinese_num"
   ]
  },
  {
   "cell_type": "code",
   "execution_count": 27,
   "metadata": {},
   "outputs": [],
   "source": [
    "id = 0\n",
    "for i, text in enumerate(finance_raw_data, 0):\n",
    "    chunks = text_splitter.split_text(text)\n",
    "    for chunk in chunks:\n",
    "        chunk = chunk.replace(' ', '')\n",
    "        chunk = chunk.replace('○', '零')\n",
    "        chunk = re.sub(r\"[○零一二三四五六七八九十百千萬億]{2,}\", convert_chinses_num, chunk)\n",
    "        chunk = re.sub(r\"(民國)*?([\\\\n\\s])*?((?<!\\d)\\d{2,3}(?=\\D))([\\\\n\\s])*?年\", convert_year_5, chunk)\n",
    "        chunk = re.sub(r\"(民國)([\\\\n\\s])*?(\\d{2,3})([\\\\n\\s])*?(年)*?\", convert_year_3, chunk)\n",
    "        finance_chunks.append(\n",
    "            {\n",
    "                \"text\": chunk,\n",
    "                \"source\": i,\n",
    "                \"id\": id\n",
    "            }\n",
    "        )\n",
    "        id += 1\n"
   ]
  },
  {
   "cell_type": "code",
   "execution_count": 28,
   "metadata": {},
   "outputs": [],
   "source": [
    "id = 0\n",
    "for i, text in enumerate(insurance_raw_data, 1):\n",
    "    chunks = text_splitter.split_text(text)\n",
    "    for chunk in chunks:\n",
    "        chunk = chunk.replace(' ', '')\n",
    "        chunk = re.sub(r\"[零一二三四五六七八九十百千萬億]{2,}\", convert_chinses_num, chunk)\n",
    "        chunk = re.sub(r\"(民國)*?([\\\\n\\s])*?((?<!\\d)\\d{2,3}(?=\\D))([\\\\n\\s])*?年\", convert_year_5, chunk)\n",
    "        chunk = re.sub(r\"(民國)([\\\\n\\s])*?(\\d{2,3})([\\\\n\\s])*?(年)*?\", convert_year_3, chunk)\n",
    "        insurance_chunks.append(\n",
    "            {\n",
    "                \"text\": chunk,\n",
    "                \"source\": i,\n",
    "                \"id\": id\n",
    "            }\n",
    "        )\n",
    "        id += 1"
   ]
  },
  {
   "cell_type": "code",
   "execution_count": 29,
   "metadata": {},
   "outputs": [],
   "source": [
    "with open(f\"..//chunks/finance_chunks_{chunk_size}_{chunk_overlap}.json\", \"w\", encoding=\"utf-8\") as f:\n",
    "    json.dump(finance_chunks, f, ensure_ascii=False, indent=4)\n",
    "with open(f\"..//chunks/insurance_chunks_{chunk_size}_{chunk_overlap}.json\", \"w\", encoding=\"utf-8\") as f:\n",
    "    json.dump(insurance_chunks, f, ensure_ascii=False, indent=4)"
   ]
  },
  {
   "cell_type": "code",
   "execution_count": 30,
   "metadata": {},
   "outputs": [],
   "source": [
    "# def convert_year(text):\n",
    "    "
   ]
  }
 ],
 "metadata": {
  "kernelspec": {
   "display_name": "aicup_jade_rag",
   "language": "python",
   "name": "python3"
  },
  "language_info": {
   "codemirror_mode": {
    "name": "ipython",
    "version": 3
   },
   "file_extension": ".py",
   "mimetype": "text/x-python",
   "name": "python",
   "nbconvert_exporter": "python",
   "pygments_lexer": "ipython3",
   "version": "3.10.15"
  }
 },
 "nbformat": 4,
 "nbformat_minor": 2
}
